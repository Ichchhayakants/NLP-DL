{
 "cells": [
  {
   "cell_type": "code",
   "execution_count": 1,
   "metadata": {},
   "outputs": [
    {
     "name": "stderr",
     "output_type": "stream",
     "text": [
      "Using TensorFlow backend.\n",
      "c:\\users\\theunlikelymonk\\appdata\\local\\programs\\python\\python36\\lib\\site-packages\\tensorflow\\python\\framework\\dtypes.py:516: FutureWarning: Passing (type, 1) or '1type' as a synonym of type is deprecated; in a future version of numpy, it will be understood as (type, (1,)) / '(1,)type'.\n",
      "  _np_qint8 = np.dtype([(\"qint8\", np.int8, 1)])\n",
      "c:\\users\\theunlikelymonk\\appdata\\local\\programs\\python\\python36\\lib\\site-packages\\tensorflow\\python\\framework\\dtypes.py:517: FutureWarning: Passing (type, 1) or '1type' as a synonym of type is deprecated; in a future version of numpy, it will be understood as (type, (1,)) / '(1,)type'.\n",
      "  _np_quint8 = np.dtype([(\"quint8\", np.uint8, 1)])\n",
      "c:\\users\\theunlikelymonk\\appdata\\local\\programs\\python\\python36\\lib\\site-packages\\tensorflow\\python\\framework\\dtypes.py:518: FutureWarning: Passing (type, 1) or '1type' as a synonym of type is deprecated; in a future version of numpy, it will be understood as (type, (1,)) / '(1,)type'.\n",
      "  _np_qint16 = np.dtype([(\"qint16\", np.int16, 1)])\n",
      "c:\\users\\theunlikelymonk\\appdata\\local\\programs\\python\\python36\\lib\\site-packages\\tensorflow\\python\\framework\\dtypes.py:519: FutureWarning: Passing (type, 1) or '1type' as a synonym of type is deprecated; in a future version of numpy, it will be understood as (type, (1,)) / '(1,)type'.\n",
      "  _np_quint16 = np.dtype([(\"quint16\", np.uint16, 1)])\n",
      "c:\\users\\theunlikelymonk\\appdata\\local\\programs\\python\\python36\\lib\\site-packages\\tensorflow\\python\\framework\\dtypes.py:520: FutureWarning: Passing (type, 1) or '1type' as a synonym of type is deprecated; in a future version of numpy, it will be understood as (type, (1,)) / '(1,)type'.\n",
      "  _np_qint32 = np.dtype([(\"qint32\", np.int32, 1)])\n",
      "c:\\users\\theunlikelymonk\\appdata\\local\\programs\\python\\python36\\lib\\site-packages\\tensorflow\\python\\framework\\dtypes.py:525: FutureWarning: Passing (type, 1) or '1type' as a synonym of type is deprecated; in a future version of numpy, it will be understood as (type, (1,)) / '(1,)type'.\n",
      "  np_resource = np.dtype([(\"resource\", np.ubyte, 1)])\n",
      "c:\\users\\theunlikelymonk\\appdata\\local\\programs\\python\\python36\\lib\\site-packages\\tensorboard\\compat\\tensorflow_stub\\dtypes.py:541: FutureWarning: Passing (type, 1) or '1type' as a synonym of type is deprecated; in a future version of numpy, it will be understood as (type, (1,)) / '(1,)type'.\n",
      "  _np_qint8 = np.dtype([(\"qint8\", np.int8, 1)])\n",
      "c:\\users\\theunlikelymonk\\appdata\\local\\programs\\python\\python36\\lib\\site-packages\\tensorboard\\compat\\tensorflow_stub\\dtypes.py:542: FutureWarning: Passing (type, 1) or '1type' as a synonym of type is deprecated; in a future version of numpy, it will be understood as (type, (1,)) / '(1,)type'.\n",
      "  _np_quint8 = np.dtype([(\"quint8\", np.uint8, 1)])\n",
      "c:\\users\\theunlikelymonk\\appdata\\local\\programs\\python\\python36\\lib\\site-packages\\tensorboard\\compat\\tensorflow_stub\\dtypes.py:543: FutureWarning: Passing (type, 1) or '1type' as a synonym of type is deprecated; in a future version of numpy, it will be understood as (type, (1,)) / '(1,)type'.\n",
      "  _np_qint16 = np.dtype([(\"qint16\", np.int16, 1)])\n",
      "c:\\users\\theunlikelymonk\\appdata\\local\\programs\\python\\python36\\lib\\site-packages\\tensorboard\\compat\\tensorflow_stub\\dtypes.py:544: FutureWarning: Passing (type, 1) or '1type' as a synonym of type is deprecated; in a future version of numpy, it will be understood as (type, (1,)) / '(1,)type'.\n",
      "  _np_quint16 = np.dtype([(\"quint16\", np.uint16, 1)])\n",
      "c:\\users\\theunlikelymonk\\appdata\\local\\programs\\python\\python36\\lib\\site-packages\\tensorboard\\compat\\tensorflow_stub\\dtypes.py:545: FutureWarning: Passing (type, 1) or '1type' as a synonym of type is deprecated; in a future version of numpy, it will be understood as (type, (1,)) / '(1,)type'.\n",
      "  _np_qint32 = np.dtype([(\"qint32\", np.int32, 1)])\n",
      "c:\\users\\theunlikelymonk\\appdata\\local\\programs\\python\\python36\\lib\\site-packages\\tensorboard\\compat\\tensorflow_stub\\dtypes.py:550: FutureWarning: Passing (type, 1) or '1type' as a synonym of type is deprecated; in a future version of numpy, it will be understood as (type, (1,)) / '(1,)type'.\n",
      "  np_resource = np.dtype([(\"resource\", np.ubyte, 1)])\n"
     ]
    }
   ],
   "source": [
    "import numpy as np\n",
    "import keras.backend as K\n",
    "import matplotlib.pyplot as plt\n",
    "import re\n",
    "import tarfile\n",
    "\n",
    "from keras.models import Model\n",
    "from keras.layers import Dense, Embedding, Input, Lambda, Reshape, add, dot, Activation\n",
    "from keras.preprocessing.sequence import pad_sequences\n",
    "from keras.optimizers import Adam, RMSprop\n",
    "from keras.utils.data_utils import get_file"
   ]
  },
  {
   "cell_type": "code",
   "execution_count": 2,
   "metadata": {},
   "outputs": [
    {
     "name": "stdout",
     "output_type": "stream",
     "text": [
      "Downloading data from https://s3.amazonaws.com/text-datasets/babi_tasks_1-20_v1-2.tar.gz\n",
      "11747328/11745123 [==============================] - 22s 2us/step\n"
     ]
    }
   ],
   "source": [
    "# get the data and open the compressed file using the tarfile library\n",
    "# https://research.fb.com/downloads/babi/\n",
    "path = get_file(\n",
    "  'babi-tasks-v1-2.tar.gz', \n",
    "  origin='https://s3.amazonaws.com/text-datasets/babi_tasks_1-20_v1-2.tar.gz')\n",
    "tar = tarfile.open(path)"
   ]
  },
  {
   "cell_type": "code",
   "execution_count": 3,
   "metadata": {},
   "outputs": [],
   "source": [
    "# relevant data in the tar file\n",
    "# there's lots more data in there, check it out if you want!\n",
    "challenges = {\n",
    "  # QA1 with 10,000 samples\n",
    "  'single_supporting_fact_10k': 'tasks_1-20_v1-2/en-10k/qa1_single-supporting-fact_{}.txt',\n",
    "  # QA2 with 10,000 samples\n",
    "  'two_supporting_facts_10k': 'tasks_1-20_v1-2/en-10k/qa2_two-supporting-facts_{}.txt',\n",
    "}\n"
   ]
  },
  {
   "cell_type": "code",
   "execution_count": 4,
   "metadata": {},
   "outputs": [],
   "source": [
    "def tokenize(sent):\n",
    "  '''Return the tokens of a sentence including punctuation.\n",
    "  >>> tokenize('Bob dropped the apple. Where is the apple?')\n",
    "  ['Bob', 'dropped', 'the', 'apple', '.', 'Where', 'is', 'the', 'apple', '?']\n",
    "  '''\n",
    "  return [x.strip() for x in re.split('(\\W+?)', sent) if x.strip()]\n"
   ]
  },
  {
   "cell_type": "code",
   "execution_count": 5,
   "metadata": {},
   "outputs": [],
   "source": [
    "def get_stories(f):\n",
    "  # data will return a list of triples\n",
    "  # each triple contains:\n",
    "  #   1. a story\n",
    "  #   2. a question about the story\n",
    "  #   3. the answer to the question\n",
    "  data = []\n",
    "\n",
    "  # use this list to keep track of the story so far\n",
    "  story = []\n",
    "\n",
    "  # print a random story, helpful to see the data\n",
    "  printed = False\n",
    "  for line in f:\n",
    "    line = line.decode('utf-8').strip()\n",
    "\n",
    "    # split the line number from the rest of the line\n",
    "    nid, line = line.split(' ', 1)\n",
    "\n",
    "    # see if we should begin a new story\n",
    "    if int(nid) == 1:\n",
    "      story = []\n",
    "\n",
    "    # this line contains a question and answer if it has a tab\n",
    "    #       question<TAB>answer\n",
    "    # it also tells us which line in the story is relevant to the answer\n",
    "    # Note: we actually ignore this fact, since the model will learn\n",
    "    #       which lines are important\n",
    "    # Note: the max line number is not the number of lines of the story\n",
    "    #       since lines with questions do not contain any story\n",
    "    # one story may contain MULTIPLE questions\n",
    "    if '\\t' in line:\n",
    "      q, a, supporting = line.split('\\t')\n",
    "      q = tokenize(q)\n",
    "\n",
    "      # numbering each line is very useful\n",
    "      # it's the equivalent of adding a unique token to the front\n",
    "      # of each sentence\n",
    "      story_so_far = [[str(i)] + s for i, s in enumerate(story) if s]\n",
    "\n",
    "      # uncomment if you want to see what a story looks like\n",
    "      # if not printed and np.random.rand() < 0.5:\n",
    "      #     print(\"story_so_far:\", story_so_far)\n",
    "      #     printed = True\n",
    "      data.append((story_so_far, q, a))\n",
    "      story.append('')\n",
    "    else:\n",
    "      # just add the line to the current story\n",
    "      story.append(tokenize(line))\n",
    "  return data"
   ]
  },
  {
   "cell_type": "code",
   "execution_count": 6,
   "metadata": {},
   "outputs": [],
   "source": [
    "# recursively flatten a list\n",
    "def should_flatten(el): \n",
    "  return not isinstance(el, (str, bytes))"
   ]
  },
  {
   "cell_type": "code",
   "execution_count": 39,
   "metadata": {},
   "outputs": [],
   "source": [
    "def flatten(l):\n",
    "  for el in l:\n",
    "    if should_flatten(el):\n",
    "      yield from flatten(el)\n",
    "    else:\n",
    "      yield el"
   ]
  },
  {
   "cell_type": "code",
   "execution_count": 7,
   "metadata": {},
   "outputs": [],
   "source": [
    "# convert stories from words into lists of word indexes (integers)\n",
    "# pad each sequence so that they are the same length\n",
    "# we will need to re-pad the stories later so that each story\n",
    "# is the same length\n",
    "def vectorize_stories(data, word2idx, story_maxlen, query_maxlen):\n",
    "  inputs, queries, answers = [], [], []\n",
    "  for story, query, answer in data:\n",
    "    inputs.append([[word2idx[w] for w in s] for s in story])\n",
    "    queries.append([word2idx[w] for w in query])\n",
    "    answers.append([word2idx[answer]])\n",
    "  return (\n",
    "    [pad_sequences(x, maxlen=story_maxlen) for x in inputs],\n",
    "    pad_sequences(queries, maxlen=query_maxlen),\n",
    "    np.array(answers)\n",
    "  )\n"
   ]
  },
  {
   "cell_type": "code",
   "execution_count": 8,
   "metadata": {},
   "outputs": [],
   "source": [
    "# this is like 'pad_sequences' but for entire stories\n",
    "# we are padding each story with zeros so every story\n",
    "# has the same number of sentences\n",
    "# append an array of zeros of size:\n",
    "# (max_sentences - num sentences in story, max words in sentence)\n",
    "def stack_inputs(inputs, story_maxsents, story_maxlen):\n",
    "  for i, story in enumerate(inputs):\n",
    "    inputs[i] = np.concatenate(\n",
    "      [\n",
    "        story, \n",
    "        np.zeros((story_maxsents - story.shape[0], story_maxlen), 'int')\n",
    "      ]\n",
    "    )\n",
    "  return np.stack(inputs)"
   ]
  },
  {
   "cell_type": "code",
   "execution_count": 9,
   "metadata": {},
   "outputs": [],
   "source": [
    "# make a function to get the data since\n",
    "# we want to load both the single supporting fact data\n",
    "# and the two supporting fact data later\n",
    "def get_data(challenge_type):\n",
    "  # input should either be 'single_supporting_fact_10k' or 'two_supporting_facts_10k'\n",
    "  challenge = challenges[challenge_type]\n",
    "\n",
    "\n",
    "  # returns a list of triples of:\n",
    "  # (story, question, answer)\n",
    "  # story is a list of sentences\n",
    "  # question is a sentence\n",
    "  # answer is a word\n",
    "  train_stories = get_stories(tar.extractfile(challenge.format('train')))\n",
    "  test_stories = get_stories(tar.extractfile(challenge.format('test')))\n",
    "\n",
    "\n",
    "  # group all the stories together\n",
    "  stories = train_stories + test_stories\n",
    "\n",
    "  # so we can get the max length of each story, of each sentence, and of each question\n",
    "  story_maxlen = max((len(s) for x, _, _ in stories for s in x))\n",
    "  story_maxsents = max((len(x) for x, _, _ in stories))\n",
    "  query_maxlen = max(len(x) for _, x, _ in stories)\n",
    "\n",
    "  # Create vocabulary of corpus and find size, including a padding element.\n",
    "  vocab = sorted(set(flatten(stories)))\n",
    "  vocab.insert(0, '<PAD>')\n",
    "  vocab_size = len(vocab)\n",
    "\n",
    "  # Create an index mapping for the vocabulary.\n",
    "  word2idx = {c:i for i, c in enumerate(vocab)}\n",
    "\n",
    "  # convert stories from strings to lists of integers\n",
    "  inputs_train, queries_train, answers_train = vectorize_stories(\n",
    "    train_stories, \n",
    "    word2idx,\n",
    "    story_maxlen,\n",
    "    query_maxlen\n",
    "  )\n",
    "  inputs_test, queries_test, answers_test = vectorize_stories(\n",
    "    test_stories, \n",
    "    word2idx,\n",
    "    story_maxlen,\n",
    "    query_maxlen\n",
    "  )\n",
    "\n",
    "  # convert inputs into 3-D numpy arrays\n",
    "  inputs_train = stack_inputs(inputs_train, story_maxsents, story_maxlen)\n",
    "  inputs_test = stack_inputs(inputs_test, story_maxsents, story_maxlen)\n",
    "  print(\"inputs_train.shape, inputs_test.shape\", inputs_train.shape, inputs_test.shape)\n",
    "\n",
    "\n",
    "  # return model inputs for keras\n",
    "  return train_stories, test_stories, \\\n",
    "    inputs_train, queries_train, answers_train, \\\n",
    "    inputs_test, queries_test, answers_test, \\\n",
    "    story_maxsents, story_maxlen, query_maxlen, \\\n",
    "    vocab, vocab_size\n"
   ]
  },
  {
   "cell_type": "code",
   "execution_count": 10,
   "metadata": {},
   "outputs": [
    {
     "name": "stdout",
     "output_type": "stream",
     "text": [
      "inputs_train.shape, inputs_test.shape (10000, 10, 8) (1000, 10, 8)\n"
     ]
    }
   ],
   "source": [
    "# get the single supporting fact data\n",
    "train_stories, test_stories, \\\n",
    "  inputs_train, queries_train, answers_train, \\\n",
    "  inputs_test, queries_test, answers_test, \\\n",
    "  story_maxsents, story_maxlen, query_maxlen, \\\n",
    "  vocab, vocab_size = get_data('single_supporting_fact_10k')"
   ]
  },
  {
   "cell_type": "code",
   "execution_count": 11,
   "metadata": {},
   "outputs": [],
   "source": [
    "##### create the model #####\n",
    "embedding_dim = 15"
   ]
  },
  {
   "cell_type": "code",
   "execution_count": 12,
   "metadata": {},
   "outputs": [
    {
     "name": "stdout",
     "output_type": "stream",
     "text": [
      "WARNING:tensorflow:From c:\\users\\theunlikelymonk\\appdata\\local\\programs\\python\\python36\\lib\\site-packages\\keras\\backend\\tensorflow_backend.py:74: The name tf.get_default_graph is deprecated. Please use tf.compat.v1.get_default_graph instead.\n",
      "\n",
      "WARNING:tensorflow:From c:\\users\\theunlikelymonk\\appdata\\local\\programs\\python\\python36\\lib\\site-packages\\keras\\backend\\tensorflow_backend.py:517: The name tf.placeholder is deprecated. Please use tf.compat.v1.placeholder instead.\n",
      "\n",
      "WARNING:tensorflow:From c:\\users\\theunlikelymonk\\appdata\\local\\programs\\python\\python36\\lib\\site-packages\\keras\\backend\\tensorflow_backend.py:4138: The name tf.random_uniform is deprecated. Please use tf.random.uniform instead.\n",
      "\n",
      "input_story_.shape, embedded_story.shape: (?, 10, 8) (?, 10, 15)\n"
     ]
    }
   ],
   "source": [
    "# turn the story into a sequence of embedding vectors\n",
    "# one for each story line\n",
    "# treating each story line like a \"bag of words\"\n",
    "input_story_ = Input((story_maxsents, story_maxlen))\n",
    "embedded_story = Embedding(vocab_size, embedding_dim)(input_story_)\n",
    "embedded_story = Lambda(lambda x: K.sum(x, axis=2))(embedded_story)\n",
    "print(\"input_story_.shape, embedded_story.shape:\", input_story_.shape, embedded_story.shape)"
   ]
  },
  {
   "cell_type": "code",
   "execution_count": 13,
   "metadata": {},
   "outputs": [],
   "source": [
    "# turn the question into an embedding\n",
    "# also a bag of words\n",
    "input_question_ = Input((query_maxlen,))\n",
    "embedded_question = Embedding(vocab_size, embedding_dim)(input_question_)\n",
    "embedded_question = Lambda(lambda x: K.sum(x, axis=1))(embedded_question)"
   ]
  },
  {
   "cell_type": "code",
   "execution_count": 14,
   "metadata": {},
   "outputs": [
    {
     "name": "stdout",
     "output_type": "stream",
     "text": [
      "inp_q.shape, emb_q.shape: (?, 4) (?, 1, 15)\n"
     ]
    }
   ],
   "source": [
    "# add a \"sequence length\" of 1 so that it can\n",
    "# be dotted with the story later\n",
    "embedded_question = Reshape((1, embedding_dim))(embedded_question)\n",
    "print(\"inp_q.shape, emb_q.shape:\", input_question_.shape, embedded_question.shape)"
   ]
  },
  {
   "cell_type": "code",
   "execution_count": 15,
   "metadata": {},
   "outputs": [
    {
     "name": "stdout",
     "output_type": "stream",
     "text": [
      "story_weights.shape: (?, 10, 1)\n"
     ]
    }
   ],
   "source": [
    "# calculate the weights for each story line\n",
    "# embedded_story.shape        = (N, num sentences, embedding_dim)\n",
    "# embedded_question.shape     = (N, 1, embedding_dim)\n",
    "x = dot([embedded_story, embedded_question], 2)\n",
    "x = Reshape((story_maxsents,))(x) # flatten the vector\n",
    "x = Activation('softmax')(x)\n",
    "story_weights = Reshape((story_maxsents, 1))(x) # unflatten it again to be dotted later\n",
    "print(\"story_weights.shape:\", story_weights.shape)"
   ]
  },
  {
   "cell_type": "code",
   "execution_count": 16,
   "metadata": {},
   "outputs": [],
   "source": [
    "x = dot([story_weights, embedded_story], 1)\n",
    "x = Reshape((embedding_dim,))(x) # flatten it again\n",
    "ans = Dense(vocab_size, activation='softmax')(x)"
   ]
  },
  {
   "cell_type": "code",
   "execution_count": 17,
   "metadata": {},
   "outputs": [],
   "source": [
    "# make the model\n",
    "model = Model([input_story_, input_question_], ans)"
   ]
  },
  {
   "cell_type": "code",
   "execution_count": 18,
   "metadata": {},
   "outputs": [
    {
     "name": "stdout",
     "output_type": "stream",
     "text": [
      "WARNING:tensorflow:From c:\\users\\theunlikelymonk\\appdata\\local\\programs\\python\\python36\\lib\\site-packages\\keras\\optimizers.py:790: The name tf.train.Optimizer is deprecated. Please use tf.compat.v1.train.Optimizer instead.\n",
      "\n",
      "WARNING:tensorflow:From c:\\users\\theunlikelymonk\\appdata\\local\\programs\\python\\python36\\lib\\site-packages\\keras\\backend\\tensorflow_backend.py:3341: The name tf.log is deprecated. Please use tf.math.log instead.\n",
      "\n"
     ]
    }
   ],
   "source": [
    "# compile the model\n",
    "model.compile(\n",
    "  optimizer=RMSprop(lr=1e-2),\n",
    "  loss='sparse_categorical_crossentropy',\n",
    "  metrics=['accuracy']\n",
    ")"
   ]
  },
  {
   "cell_type": "code",
   "execution_count": 19,
   "metadata": {},
   "outputs": [
    {
     "name": "stdout",
     "output_type": "stream",
     "text": [
      "WARNING:tensorflow:From c:\\users\\theunlikelymonk\\appdata\\local\\programs\\python\\python36\\lib\\site-packages\\tensorflow\\python\\ops\\math_grad.py:1250: add_dispatch_support.<locals>.wrapper (from tensorflow.python.ops.array_ops) is deprecated and will be removed in a future version.\n",
      "Instructions for updating:\n",
      "Use tf.where in 2.0, which has the same broadcast rule as np.where\n",
      "WARNING:tensorflow:From c:\\users\\theunlikelymonk\\appdata\\local\\programs\\python\\python36\\lib\\site-packages\\keras\\backend\\tensorflow_backend.py:986: The name tf.assign_add is deprecated. Please use tf.compat.v1.assign_add instead.\n",
      "\n",
      "Train on 10000 samples, validate on 1000 samples\n",
      "Epoch 1/4\n",
      "10000/10000 [==============================] - 1s 140us/step - loss: 0.6828 - acc: 0.7750 - val_loss: 0.1205 - val_acc: 0.9630\n",
      "Epoch 2/4\n",
      "10000/10000 [==============================] - 0s 45us/step - loss: 0.0112 - acc: 0.9969 - val_loss: 0.0706 - val_acc: 0.9800\n",
      "Epoch 3/4\n",
      "10000/10000 [==============================] - 0s 46us/step - loss: 0.0073 - acc: 0.9978 - val_loss: 2.3415e-05 - val_acc: 1.0000\n",
      "Epoch 4/4\n",
      "10000/10000 [==============================] - 0s 45us/step - loss: 0.0032 - acc: 0.9994 - val_loss: 4.1107e-05 - val_acc: 1.0000\n"
     ]
    }
   ],
   "source": [
    "# train the model\n",
    "r = model.fit(\n",
    "  [inputs_train, queries_train],\n",
    "  answers_train,\n",
    "  epochs=4,\n",
    "  batch_size=32,\n",
    "  validation_data=([inputs_test, queries_test], answers_test)\n",
    ")"
   ]
  },
  {
   "cell_type": "code",
   "execution_count": 20,
   "metadata": {},
   "outputs": [],
   "source": [
    "# Check how we weight each input sentence given a story and question\n",
    "debug_model = Model([input_story_, input_question_], story_weights)\n",
    "\n",
    "# choose a random story\n",
    "story_idx = np.random.choice(len(train_stories))"
   ]
  },
  {
   "cell_type": "code",
   "execution_count": 21,
   "metadata": {},
   "outputs": [],
   "source": [
    "# get weights from debug model\n",
    "i = inputs_train[story_idx:story_idx+1]\n",
    "q = queries_train[story_idx:story_idx+1]\n",
    "w = debug_model.predict([i, q]).flatten()"
   ]
  },
  {
   "cell_type": "code",
   "execution_count": 22,
   "metadata": {},
   "outputs": [
    {
     "name": "stdout",
     "output_type": "stream",
     "text": [
      "story:\n",
      "\n",
      "0.00000 \t 0 Daniel moved to the bathroom .\n",
      "0.99995 \t 1 Sandra went back to the kitchen .\n",
      "question: Where is Sandra ?\n",
      "answer: kitchen\n"
     ]
    }
   ],
   "source": [
    "story, question, ans = train_stories[story_idx]\n",
    "print(\"story:\\n\")\n",
    "for i, line in enumerate(story):\n",
    "  print(\"{:1.5f}\".format(w[i]), \"\\t\", \" \".join(line))\n",
    "\n",
    "print(\"question:\", \" \".join(question))\n",
    "print(\"answer:\", ans)"
   ]
  },
  {
   "cell_type": "code",
   "execution_count": 40,
   "metadata": {},
   "outputs": [
    {
     "name": "stdout",
     "output_type": "stream",
     "text": [
      "Hit enter to continue\n",
      "\n",
      "Where is Sandra ?\n"
     ]
    },
    {
     "data": {
      "text/plain": [
       "'Where is Sandra ?'"
      ]
     },
     "execution_count": 40,
     "metadata": {},
     "output_type": "execute_result"
    }
   ],
   "source": [
    "\n",
    "# pause so we can see the output\n",
    "input(\"Hit enter to continue\\n\\n\")"
   ]
  },
  {
   "cell_type": "code",
   "execution_count": 24,
   "metadata": {},
   "outputs": [
    {
     "name": "stdout",
     "output_type": "stream",
     "text": [
      "inputs_train.shape, inputs_test.shape (10000, 88, 8) (1000, 88, 8)\n"
     ]
    }
   ],
   "source": [
    "##### two supporting facts #####\n",
    "\n",
    "\n",
    "# get the two supporting fact data\n",
    "train_stories, test_stories, \\\n",
    "  inputs_train, queries_train, answers_train, \\\n",
    "  inputs_test, queries_test, answers_test, \\\n",
    "  story_maxsents, story_maxlen, query_maxlen, \\\n",
    "  vocab, vocab_size = get_data('two_supporting_facts_10k')"
   ]
  },
  {
   "cell_type": "code",
   "execution_count": 25,
   "metadata": {},
   "outputs": [],
   "source": [
    "##### create the model #####\n",
    "embedding_dim = 30"
   ]
  },
  {
   "cell_type": "code",
   "execution_count": 26,
   "metadata": {},
   "outputs": [],
   "source": [
    "# make a function for this so we can use it again\n",
    "def embed_and_sum(x, axis=2):\n",
    "  x = Embedding(vocab_size, embedding_dim)(x)\n",
    "  x = Lambda(lambda x: K.sum(x, axis))(x)\n",
    "  return x"
   ]
  },
  {
   "cell_type": "code",
   "execution_count": 27,
   "metadata": {},
   "outputs": [],
   "source": [
    "# define the inputs\n",
    "input_story_ = Input((story_maxsents, story_maxlen))\n",
    "input_question_ = Input((query_maxlen,))\n",
    "\n",
    "\n",
    "# embed the inputs\n",
    "embedded_story = embed_and_sum(input_story_)\n",
    "embedded_question = embed_and_sum(input_question_, 1)\n",
    "\n",
    "\n",
    "# final dense will be used in each hop\n",
    "dense_layer = Dense(embedding_dim, activation='elu')"
   ]
  },
  {
   "cell_type": "code",
   "execution_count": 28,
   "metadata": {},
   "outputs": [],
   "source": [
    "# define one hop\n",
    "# the \"query\" can be the question, or the answer from the previous hop\n",
    "def hop(query, story):\n",
    "  # query.shape = (embedding_dim,)\n",
    "  # story.shape = (num sentences, embedding_dim)\n",
    "  x = Reshape((1, embedding_dim))(query) # make it (1, embedding_dim)\n",
    "  x = dot([story, x], 2)\n",
    "  x = Reshape((story_maxsents,))(x) # flatten it for softmax\n",
    "  x = Activation('softmax')(x)\n",
    "  story_weights = Reshape((story_maxsents, 1))(x) # unflatten for dotting\n",
    "\n",
    "  # makes a new embedding\n",
    "  story_embedding2 = embed_and_sum(input_story_)\n",
    "  x = dot([story_weights, story_embedding2], 1)\n",
    "  x = Reshape((embedding_dim,))(x)\n",
    "  x = dense_layer(x)\n",
    "  return x, story_embedding2, story_weights"
   ]
  },
  {
   "cell_type": "code",
   "execution_count": 29,
   "metadata": {},
   "outputs": [],
   "source": [
    "# do the hops\n",
    "ans1, embedded_story, story_weights1 = hop(embedded_question, embedded_story)\n",
    "ans2, _,              story_weights2 = hop(ans1,              embedded_story)\n",
    "\n",
    "# get the final answer\n",
    "ans = Dense(vocab_size, activation='softmax')(ans2)"
   ]
  },
  {
   "cell_type": "code",
   "execution_count": 30,
   "metadata": {},
   "outputs": [],
   "source": [
    "# build the model\n",
    "model2 = Model([input_story_, input_question_], ans)"
   ]
  },
  {
   "cell_type": "code",
   "execution_count": 31,
   "metadata": {},
   "outputs": [],
   "source": [
    "# compile the model\n",
    "model2.compile(\n",
    "  optimizer=RMSprop(lr=5e-3),\n",
    "  loss='sparse_categorical_crossentropy',\n",
    "  metrics=['accuracy']\n",
    ")"
   ]
  },
  {
   "cell_type": "code",
   "execution_count": 32,
   "metadata": {},
   "outputs": [
    {
     "name": "stdout",
     "output_type": "stream",
     "text": [
      "Train on 10000 samples, validate on 1000 samples\n",
      "Epoch 1/30\n",
      "10000/10000 [==============================] - 3s 292us/step - loss: 1.7257 - acc: 0.2785 - val_loss: 1.4843 - val_acc: 0.4110\n",
      "Epoch 2/30\n",
      "10000/10000 [==============================] - 3s 330us/step - loss: 0.9390 - acc: 0.6462 - val_loss: 0.7379 - val_acc: 0.7110\n",
      "Epoch 3/30\n",
      "10000/10000 [==============================] - 2s 229us/step - loss: 0.6456 - acc: 0.7609 - val_loss: 0.6744 - val_acc: 0.7370\n",
      "Epoch 4/30\n",
      "10000/10000 [==============================] - 4s 392us/step - loss: 0.5422 - acc: 0.8026 - val_loss: 0.5982 - val_acc: 0.7820\n",
      "Epoch 5/30\n",
      "10000/10000 [==============================] - 3s 262us/step - loss: 0.4569 - acc: 0.8353 - val_loss: 0.4931 - val_acc: 0.8180\n",
      "Epoch 6/30\n",
      "10000/10000 [==============================] - 4s 354us/step - loss: 0.3794 - acc: 0.8658 - val_loss: 0.4522 - val_acc: 0.8590\n",
      "Epoch 7/30\n",
      "10000/10000 [==============================] - 3s 303us/step - loss: 0.3380 - acc: 0.8837 - val_loss: 0.4473 - val_acc: 0.8540\n",
      "Epoch 8/30\n",
      "10000/10000 [==============================] - 3s 313us/step - loss: 0.3075 - acc: 0.8961 - val_loss: 0.3708 - val_acc: 0.8770\n",
      "Epoch 9/30\n",
      "10000/10000 [==============================] - 4s 361us/step - loss: 0.2771 - acc: 0.9078 - val_loss: 0.4378 - val_acc: 0.8610\n",
      "Epoch 10/30\n",
      "10000/10000 [==============================] - 3s 307us/step - loss: 0.2634 - acc: 0.9176 - val_loss: 0.3772 - val_acc: 0.8790\n",
      "Epoch 11/30\n",
      "10000/10000 [==============================] - 4s 387us/step - loss: 0.2555 - acc: 0.9215 - val_loss: 0.3856 - val_acc: 0.8640\n",
      "Epoch 12/30\n",
      "10000/10000 [==============================] - 3s 298us/step - loss: 0.2341 - acc: 0.9288 - val_loss: 0.3360 - val_acc: 0.8890\n",
      "Epoch 13/30\n",
      "10000/10000 [==============================] - 4s 442us/step - loss: 0.2208 - acc: 0.9349 - val_loss: 0.3203 - val_acc: 0.8990\n",
      "Epoch 14/30\n",
      "10000/10000 [==============================] - 3s 329us/step - loss: 0.2092 - acc: 0.9366 - val_loss: 0.4151 - val_acc: 0.8720\n",
      "Epoch 15/30\n",
      "10000/10000 [==============================] - 4s 437us/step - loss: 0.2018 - acc: 0.9414 - val_loss: 0.4099 - val_acc: 0.8940\n",
      "Epoch 16/30\n",
      "10000/10000 [==============================] - 3s 331us/step - loss: 0.1863 - acc: 0.9468 - val_loss: 0.3592 - val_acc: 0.9010\n",
      "Epoch 17/30\n",
      "10000/10000 [==============================] - 4s 434us/step - loss: 0.1934 - acc: 0.9474 - val_loss: 0.2875 - val_acc: 0.9120\n",
      "Epoch 18/30\n",
      "10000/10000 [==============================] - 4s 382us/step - loss: 0.1806 - acc: 0.9484 - val_loss: 0.3724 - val_acc: 0.8950\n",
      "Epoch 19/30\n",
      "10000/10000 [==============================] - 4s 390us/step - loss: 0.1844 - acc: 0.9471 - val_loss: 0.3989 - val_acc: 0.8970\n",
      "Epoch 20/30\n",
      "10000/10000 [==============================] - 4s 441us/step - loss: 0.1535 - acc: 0.9574 - val_loss: 0.2973 - val_acc: 0.9110\n",
      "Epoch 21/30\n",
      "10000/10000 [==============================] - 4s 436us/step - loss: 0.1641 - acc: 0.9579 - val_loss: 0.2766 - val_acc: 0.9170\n",
      "Epoch 22/30\n",
      "10000/10000 [==============================] - 3s 339us/step - loss: 0.1613 - acc: 0.9576 - val_loss: 0.3124 - val_acc: 0.9090\n",
      "Epoch 23/30\n",
      "10000/10000 [==============================] - 4s 434us/step - loss: 0.1702 - acc: 0.9549 - val_loss: 0.4259 - val_acc: 0.8990\n",
      "Epoch 24/30\n",
      "10000/10000 [==============================] - 4s 435us/step - loss: 0.1548 - acc: 0.9603 - val_loss: 0.4962 - val_acc: 0.8840\n",
      "Epoch 25/30\n",
      "10000/10000 [==============================] - 4s 435us/step - loss: 0.1607 - acc: 0.9560 - val_loss: 0.3229 - val_acc: 0.9050\n",
      "Epoch 26/30\n",
      "10000/10000 [==============================] - 4s 438us/step - loss: 0.1661 - acc: 0.9577 - val_loss: 0.3084 - val_acc: 0.9100\n",
      "Epoch 27/30\n",
      "10000/10000 [==============================] - 4s 432us/step - loss: 0.1569 - acc: 0.9599 - val_loss: 0.4143 - val_acc: 0.9040\n",
      "Epoch 28/30\n",
      "10000/10000 [==============================] - 4s 433us/step - loss: 0.1474 - acc: 0.9620 - val_loss: 0.4429 - val_acc: 0.8780\n",
      "Epoch 29/30\n",
      "10000/10000 [==============================] - 5s 456us/step - loss: 0.1440 - acc: 0.9637 - val_loss: 0.3683 - val_acc: 0.9090\n",
      "Epoch 30/30\n",
      "10000/10000 [==============================] - 4s 449us/step - loss: 0.1419 - acc: 0.9667 - val_loss: 0.3645 - val_acc: 0.9050\n"
     ]
    }
   ],
   "source": [
    "# fit the model\n",
    "r = model2.fit(\n",
    "  [inputs_train, queries_train],\n",
    "  answers_train,\n",
    "  epochs=30,\n",
    "  batch_size=32,\n",
    "  validation_data=([inputs_test, queries_test], answers_test)\n",
    ")\n"
   ]
  },
  {
   "cell_type": "code",
   "execution_count": 33,
   "metadata": {},
   "outputs": [],
   "source": [
    "### print story line weights again ###\n",
    "debug_model2 = Model(\n",
    "  [input_story_, input_question_],\n",
    "  [story_weights1, story_weights2]\n",
    ")"
   ]
  },
  {
   "cell_type": "code",
   "execution_count": 34,
   "metadata": {},
   "outputs": [],
   "source": [
    "# choose a random story\n",
    "story_idx = np.random.choice(len(train_stories))\n",
    "\n",
    "# get weights from debug model\n",
    "i = inputs_train[story_idx:story_idx+1]\n",
    "q = queries_train[story_idx:story_idx+1]\n",
    "w1, w2 = debug_model2.predict([i, q])\n",
    "w1 = w1.flatten()\n",
    "w2 = w2.flatten()"
   ]
  },
  {
   "cell_type": "code",
   "execution_count": 35,
   "metadata": {},
   "outputs": [
    {
     "name": "stdout",
     "output_type": "stream",
     "text": [
      "story:\n",
      "\n",
      "0.00000 \t 0.00000 \t 0 Daniel journeyed to the hallway .\n",
      "0.00000 \t 0.00000 \t 1 Mary travelled to the bathroom .\n",
      "0.00000 \t 0.00000 \t 2 Daniel went to the office .\n",
      "0.00000 \t 0.00000 \t 3 Mary went back to the bedroom .\n",
      "0.00000 \t 0.00000 \t 4 Mary moved to the hallway .\n",
      "0.00000 \t 0.00000 \t 5 John went to the bathroom .\n",
      "0.00000 \t 0.00000 \t 6 Sandra moved to the bathroom .\n",
      "0.00000 \t 0.00000 \t 7 Mary journeyed to the office .\n",
      "0.00000 \t 0.00000 \t 8 Mary moved to the bathroom .\n",
      "0.00000 \t 0.00000 \t 9 Sandra went to the hallway .\n",
      "0.00000 \t 0.00000 \t 10 Sandra went back to the bathroom .\n",
      "0.00000 \t 0.09306 \t 11 Daniel travelled to the bathroom .\n",
      "0.00000 \t 0.00000 \t 12 Mary journeyed to the kitchen .\n",
      "0.00000 \t 0.00240 \t 13 Daniel travelled to the garden .\n",
      "0.00000 \t 0.00000 \t 14 Daniel took the milk there .\n",
      "0.00000 \t 0.00000 \t 15 Mary travelled to the office .\n",
      "0.00000 \t 0.90453 \t 16 Daniel journeyed to the hallway .\n",
      "0.00000 \t 0.00000 \t 17 John journeyed to the garden .\n",
      "0.03097 \t 0.00000 \t 19 Daniel left the milk .\n",
      "0.00000 \t 0.00000 \t 20 Sandra went back to the kitchen .\n",
      "0.12498 \t 0.00000 \t 22 Daniel grabbed the milk there .\n",
      "0.84405 \t 0.00000 \t 23 Daniel dropped the milk there .\n",
      "0.00000 \t 0.00000 \t 25 Sandra grabbed the football there .\n",
      "0.00000 \t 0.00000 \t 26 Sandra discarded the football .\n",
      "question: Where is the milk ?\n",
      "answer: hallway\n",
      "prediction: hallway\n"
     ]
    }
   ],
   "source": [
    "story, question, ans = train_stories[story_idx]\n",
    "print(\"story:\\n\")\n",
    "for j, line in enumerate(story):\n",
    "  print(\"{:1.5f}\".format(w1[j]), \"\\t\", \"{:1.5f}\".format(w2[j]), \"\\t\", \" \".join(line))\n",
    "\n",
    "print(\"question:\", \" \".join(question))\n",
    "print(\"answer:\", ans)\n",
    "print(\"prediction:\", vocab[ np.argmax(model2.predict([i, q])[0]) ])\n"
   ]
  },
  {
   "cell_type": "code",
   "execution_count": 36,
   "metadata": {},
   "outputs": [
    {
     "data": {
      "image/png": "[encoded data removed]",
      "text/plain": [
       "<Figure size 432x288 with 1 Axes>"
      ]
     },
     "metadata": {
      "needs_background": "light"
     },
     "output_type": "display_data"
    }
   ],
   "source": [
    "# plot some data\n",
    "plt.plot(r.history['loss'], label='loss')\n",
    "plt.plot(r.history['val_loss'], label='val_loss')\n",
    "plt.legend()\n",
    "plt.show()"
   ]
  },
  {
   "cell_type": "code",
   "execution_count": 38,
   "metadata": {},
   "outputs": [
    {
     "data": {
      "image/png": "[encoded data removed]",
      "text/plain": [
       "<Figure size 432x288 with 1 Axes>"
      ]
     },
     "metadata": {
      "needs_background": "light"
     },
     "output_type": "display_data"
    }
   ],
   "source": [
    "# accuracies\n",
    "plt.plot(r.history['acc'], label='acc')\n",
    "plt.plot(r.history['val_acc'], label='val_acc')\n",
    "plt.legend()\n",
    "plt.show()"
   ]
  },
  {
   "cell_type": "code",
   "execution_count": null,
   "metadata": {},
   "outputs": [],
   "source": []
  }
 ],
 "metadata": {
  "kernelspec": {
   "display_name": "Python 3",
   "language": "python",
   "name": "python3"
  },
  "language_info": {
   "codemirror_mode": {
    "name": "ipython",
    "version": 3
   },
   "file_extension": ".py",
   "mimetype": "text/x-python",
   "name": "python",
   "nbconvert_exporter": "python",
   "pygments_lexer": "ipython3",
   "version": "3.6.1"
  }
 },
 "nbformat": 4,
 "nbformat_minor": 2
}
