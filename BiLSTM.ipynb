{
 "cells": [
  {
   "cell_type": "code",
   "execution_count": 10,
   "metadata": {},
   "outputs": [],
   "source": [
    "from keras.models import Model\n",
    "from keras.layers import Input,LSTM,GRU,Bidirectional\n",
    "import numpy as np\n",
    "import matplotlib.pyplot as plt"
   ]
  },
  {
   "cell_type": "code",
   "execution_count": 11,
   "metadata": {},
   "outputs": [],
   "source": [
    "T = 8\n",
    "D = 2\n",
    "M = 3"
   ]
  },
  {
   "cell_type": "code",
   "execution_count": 12,
   "metadata": {},
   "outputs": [],
   "source": [
    "X = np.random.randn(1,T,D)"
   ]
  },
  {
   "cell_type": "code",
   "execution_count": 13,
   "metadata": {},
   "outputs": [],
   "source": [
    "input_ = Input(shape=(T,D))\n",
    "rnn = Bidirectional(LSTM(M,return_state=True,return_sequences=True))"
   ]
  },
  {
   "cell_type": "code",
   "execution_count": 14,
   "metadata": {},
   "outputs": [],
   "source": [
    "x = rnn(input_)"
   ]
  },
  {
   "cell_type": "code",
   "execution_count": 15,
   "metadata": {},
   "outputs": [
    {
     "name": "stdout",
     "output_type": "stream",
     "text": [
      "o: [[[-0.00166712  0.01144258 -0.00108499 -0.01878024 -0.01691028\n",
      "    0.05478026]\n",
      "  [ 0.01995922  0.02948123  0.02565601 -0.00777082 -0.0202432\n",
      "    0.06192689]\n",
      "  [ 0.03797739 -0.0132108   0.04587099 -0.0456887   0.0079515\n",
      "   -0.07928935]\n",
      "  [-0.02690485  0.1030123  -0.13625202 -0.11702124  0.05275605\n",
      "   -0.10263709]\n",
      "  [ 0.02340547  0.07953877  0.00574124  0.07645373 -0.05439914\n",
      "    0.16229643]\n",
      "  [ 0.0225002  -0.02933175  0.0144742   0.09571458 -0.07852983\n",
      "   -0.01045644]\n",
      "  [ 0.07875127  0.00634508  0.05168879  0.04474261 -0.05426636\n",
      "    0.24644078]\n",
      "  [ 0.18637475  0.02009016  0.09334951  0.05015108 -0.04740755\n",
      "    0.168394  ]]]\n",
      "h1: [[0.18637475 0.02009016 0.09334951]]\n",
      "c1: [[0.382442   0.03477918 0.24099997]]\n",
      "h2: [[-0.01878024 -0.01691028  0.05478026]]\n",
      "c2: [[-0.03925685 -0.03577755  0.10682159]]\n"
     ]
    }
   ],
   "source": [
    "model = Model(inputs=input_,outputs=x)\n",
    "o,h1,c1,h2,c2 = model.predict(X)\n",
    "print(\"o:\",o)\n",
    "print(\"h1:\",h1)\n",
    "print(\"c1:\",c1)\n",
    "print(\"h2:\",h2)\n",
    "print(\"c2:\",c2)"
   ]
  },
  {
   "cell_type": "code",
   "execution_count": 16,
   "metadata": {},
   "outputs": [],
   "source": [
    "input_ = Input(shape=(T,D))\n",
    "rnn = Bidirectional(LSTM(M, return_state=True, return_sequences=True))"
   ]
  },
  {
   "cell_type": "code",
   "execution_count": 17,
   "metadata": {},
   "outputs": [],
   "source": [
    "x = rnn(input_)"
   ]
  },
  {
   "cell_type": "code",
   "execution_count": 18,
   "metadata": {},
   "outputs": [
    {
     "name": "stdout",
     "output_type": "stream",
     "text": [
      "o: [[[ 0.01638058  0.00415256  0.00274301  0.07863731  0.06302117\n",
      "   -0.02997321]\n",
      "  [ 0.10500428  0.03046858  0.01642831  0.08017988  0.09218628\n",
      "   -0.06076786]\n",
      "  [ 0.07444902  0.02252189  0.00919891 -0.00348347 -0.00179979\n",
      "   -0.05333642]\n",
      "  [-0.06547861  0.00419866 -0.05656453  0.06018509 -0.01349815\n",
      "   -0.05199692]\n",
      "  [ 0.14177983  0.05079195 -0.00895823  0.09232462  0.37676597\n",
      "   -0.14117417]\n",
      "  [ 0.01752749  0.0108639  -0.04168034  0.02199835  0.13516405\n",
      "   -0.08491327]\n",
      "  [ 0.16948923  0.06136769 -0.00472342  0.13849625  0.3385687\n",
      "   -0.11325911]\n",
      "  [ 0.28090933  0.12280463  0.01537219  0.08663873  0.23881437\n",
      "   -0.10762143]]]\n",
      "h1: [[0.28090933 0.12280463 0.01537219]]\n",
      "c1: [[0.59656054 0.2139652  0.0399434 ]]\n",
      "h2: [[ 0.07863731  0.06302117 -0.02997321]]\n",
      "c2: [[ 0.16592357  0.12530215 -0.0594068 ]]\n"
     ]
    }
   ],
   "source": [
    "model = Model(inputs=input_,outputs=x)\n",
    "o,h1,c1,h2,c2 = model.predict(X)\n",
    "print(\"o:\",o)\n",
    "print(\"h1:\",h1)\n",
    "print(\"c1:\",c1)\n",
    "print(\"h2:\",h2)\n",
    "print(\"c2:\",c2)"
   ]
  },
  {
   "cell_type": "code",
   "execution_count": 19,
   "metadata": {},
   "outputs": [],
   "source": [
    "input_ = Input(shape=(T,D))\n",
    "rnn = Bidirectional(LSTM(M,return_state=True,return_sequences=False))"
   ]
  },
  {
   "cell_type": "code",
   "execution_count": 20,
   "metadata": {},
   "outputs": [],
   "source": [
    "x = rnn(input_)"
   ]
  },
  {
   "cell_type": "code",
   "execution_count": 21,
   "metadata": {},
   "outputs": [
    {
     "name": "stdout",
     "output_type": "stream",
     "text": [
      "o: [[ 0.09913814 -0.00875943  0.27049127 -0.11667792  0.01408434 -0.06782869]]\n",
      "h1: [[ 0.09913814 -0.00875943  0.27049127]]\n",
      "c1: [[ 0.16975221 -0.015448    0.56387836]]\n",
      "h2: [[-0.11667792  0.01408434 -0.06782869]]\n",
      "c2: [[-0.2381073   0.02753577 -0.13893314]]\n"
     ]
    }
   ],
   "source": [
    "model = Model(inputs=input_,outputs=x)\n",
    "o,h1,c1,h2,c2 = model.predict(X)\n",
    "print(\"o:\",o)\n",
    "print(\"h1:\",h1)\n",
    "print(\"c1:\",c1)\n",
    "print(\"h2:\",h2)\n",
    "print(\"c2:\",c2)"
   ]
  },
  {
   "cell_type": "code",
   "execution_count": null,
   "metadata": {},
   "outputs": [],
   "source": []
  }
 ],
 "metadata": {
  "kernelspec": {
   "display_name": "Python 3",
   "language": "python",
   "name": "python3"
  },
  "language_info": {
   "codemirror_mode": {
    "name": "ipython",
    "version": 3
   },
   "file_extension": ".py",
   "mimetype": "text/x-python",
   "name": "python",
   "nbconvert_exporter": "python",
   "pygments_lexer": "ipython3",
   "version": "3.6.1"
  }
 },
 "nbformat": 4,
 "nbformat_minor": 2
}
